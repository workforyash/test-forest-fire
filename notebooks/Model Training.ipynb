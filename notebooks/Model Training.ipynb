{
 "cells": [
  {
   "cell_type": "code",
   "execution_count": 1,
   "id": "5b80b558",
   "metadata": {},
   "outputs": [],
   "source": [
    "import matplotlib.pyplot as plt\n",
    "import pandas as pd\n",
    "import numpy as np\n",
    "import seaborn as sns\n",
    "%matplotlib inline"
   ]
  },
  {
   "cell_type": "code",
   "execution_count": 2,
   "id": "1d4f3ac9",
   "metadata": {},
   "outputs": [],
   "source": [
    "df = pd.read_csv('cleaned algerian fire dataset')"
   ]
  },
  {
   "cell_type": "code",
   "execution_count": 3,
   "id": "fd74d4f4",
   "metadata": {},
   "outputs": [
    {
     "data": {
      "text/html": [
       "<div>\n",
       "<style scoped>\n",
       "    .dataframe tbody tr th:only-of-type {\n",
       "        vertical-align: middle;\n",
       "    }\n",
       "\n",
       "    .dataframe tbody tr th {\n",
       "        vertical-align: top;\n",
       "    }\n",
       "\n",
       "    .dataframe thead th {\n",
       "        text-align: right;\n",
       "    }\n",
       "</style>\n",
       "<table border=\"1\" class=\"dataframe\">\n",
       "  <thead>\n",
       "    <tr style=\"text-align: right;\">\n",
       "      <th></th>\n",
       "      <th>day</th>\n",
       "      <th>month</th>\n",
       "      <th>year</th>\n",
       "      <th>Temperature</th>\n",
       "      <th>RH</th>\n",
       "      <th>Ws</th>\n",
       "      <th>Rain</th>\n",
       "      <th>FFMC</th>\n",
       "      <th>DMC</th>\n",
       "      <th>DC</th>\n",
       "      <th>ISI</th>\n",
       "      <th>BUI</th>\n",
       "      <th>FWI</th>\n",
       "      <th>Classes</th>\n",
       "      <th>region</th>\n",
       "    </tr>\n",
       "  </thead>\n",
       "  <tbody>\n",
       "    <tr>\n",
       "      <th>0</th>\n",
       "      <td>1</td>\n",
       "      <td>6</td>\n",
       "      <td>2012</td>\n",
       "      <td>29</td>\n",
       "      <td>57</td>\n",
       "      <td>18</td>\n",
       "      <td>0.0</td>\n",
       "      <td>65.7</td>\n",
       "      <td>3.4</td>\n",
       "      <td>7.6</td>\n",
       "      <td>1.3</td>\n",
       "      <td>3.4</td>\n",
       "      <td>0.5</td>\n",
       "      <td>not fire</td>\n",
       "      <td>0</td>\n",
       "    </tr>\n",
       "    <tr>\n",
       "      <th>1</th>\n",
       "      <td>2</td>\n",
       "      <td>6</td>\n",
       "      <td>2012</td>\n",
       "      <td>29</td>\n",
       "      <td>61</td>\n",
       "      <td>13</td>\n",
       "      <td>1.3</td>\n",
       "      <td>64.4</td>\n",
       "      <td>4.1</td>\n",
       "      <td>7.6</td>\n",
       "      <td>1.0</td>\n",
       "      <td>3.9</td>\n",
       "      <td>0.4</td>\n",
       "      <td>not fire</td>\n",
       "      <td>0</td>\n",
       "    </tr>\n",
       "    <tr>\n",
       "      <th>2</th>\n",
       "      <td>3</td>\n",
       "      <td>6</td>\n",
       "      <td>2012</td>\n",
       "      <td>26</td>\n",
       "      <td>82</td>\n",
       "      <td>22</td>\n",
       "      <td>13.1</td>\n",
       "      <td>47.1</td>\n",
       "      <td>2.5</td>\n",
       "      <td>7.1</td>\n",
       "      <td>0.3</td>\n",
       "      <td>2.7</td>\n",
       "      <td>0.1</td>\n",
       "      <td>not fire</td>\n",
       "      <td>0</td>\n",
       "    </tr>\n",
       "    <tr>\n",
       "      <th>3</th>\n",
       "      <td>4</td>\n",
       "      <td>6</td>\n",
       "      <td>2012</td>\n",
       "      <td>25</td>\n",
       "      <td>89</td>\n",
       "      <td>13</td>\n",
       "      <td>2.5</td>\n",
       "      <td>28.6</td>\n",
       "      <td>1.3</td>\n",
       "      <td>6.9</td>\n",
       "      <td>0.0</td>\n",
       "      <td>1.7</td>\n",
       "      <td>0.0</td>\n",
       "      <td>not fire</td>\n",
       "      <td>0</td>\n",
       "    </tr>\n",
       "    <tr>\n",
       "      <th>4</th>\n",
       "      <td>5</td>\n",
       "      <td>6</td>\n",
       "      <td>2012</td>\n",
       "      <td>27</td>\n",
       "      <td>77</td>\n",
       "      <td>16</td>\n",
       "      <td>0.0</td>\n",
       "      <td>64.8</td>\n",
       "      <td>3.0</td>\n",
       "      <td>14.2</td>\n",
       "      <td>1.2</td>\n",
       "      <td>3.9</td>\n",
       "      <td>0.5</td>\n",
       "      <td>not fire</td>\n",
       "      <td>0</td>\n",
       "    </tr>\n",
       "  </tbody>\n",
       "</table>\n",
       "</div>"
      ],
      "text/plain": [
       "   day  month  year  Temperature  RH  Ws  Rain  FFMC  DMC    DC  ISI  BUI  \\\n",
       "0    1      6  2012           29  57  18   0.0  65.7  3.4   7.6  1.3  3.4   \n",
       "1    2      6  2012           29  61  13   1.3  64.4  4.1   7.6  1.0  3.9   \n",
       "2    3      6  2012           26  82  22  13.1  47.1  2.5   7.1  0.3  2.7   \n",
       "3    4      6  2012           25  89  13   2.5  28.6  1.3   6.9  0.0  1.7   \n",
       "4    5      6  2012           27  77  16   0.0  64.8  3.0  14.2  1.2  3.9   \n",
       "\n",
       "   FWI      Classes  region  \n",
       "0  0.5  not fire          0  \n",
       "1  0.4  not fire          0  \n",
       "2  0.1  not fire          0  \n",
       "3  0.0  not fire          0  \n",
       "4  0.5  not fire          0  "
      ]
     },
     "execution_count": 3,
     "metadata": {},
     "output_type": "execute_result"
    }
   ],
   "source": [
    "df.head()"
   ]
  },
  {
   "cell_type": "code",
   "execution_count": 4,
   "id": "5ecba1bf",
   "metadata": {},
   "outputs": [],
   "source": [
    "#droping day month and year\n",
    "df.drop(labels=['day', 'month', 'year'], axis=1, inplace=True)"
   ]
  },
  {
   "cell_type": "code",
   "execution_count": 5,
   "id": "7787bfbb",
   "metadata": {},
   "outputs": [
    {
     "data": {
      "text/html": [
       "<div>\n",
       "<style scoped>\n",
       "    .dataframe tbody tr th:only-of-type {\n",
       "        vertical-align: middle;\n",
       "    }\n",
       "\n",
       "    .dataframe tbody tr th {\n",
       "        vertical-align: top;\n",
       "    }\n",
       "\n",
       "    .dataframe thead th {\n",
       "        text-align: right;\n",
       "    }\n",
       "</style>\n",
       "<table border=\"1\" class=\"dataframe\">\n",
       "  <thead>\n",
       "    <tr style=\"text-align: right;\">\n",
       "      <th></th>\n",
       "      <th>Temperature</th>\n",
       "      <th>RH</th>\n",
       "      <th>Ws</th>\n",
       "      <th>Rain</th>\n",
       "      <th>FFMC</th>\n",
       "      <th>DMC</th>\n",
       "      <th>DC</th>\n",
       "      <th>ISI</th>\n",
       "      <th>BUI</th>\n",
       "      <th>FWI</th>\n",
       "      <th>Classes</th>\n",
       "      <th>region</th>\n",
       "    </tr>\n",
       "  </thead>\n",
       "  <tbody>\n",
       "    <tr>\n",
       "      <th>0</th>\n",
       "      <td>29</td>\n",
       "      <td>57</td>\n",
       "      <td>18</td>\n",
       "      <td>0.0</td>\n",
       "      <td>65.7</td>\n",
       "      <td>3.4</td>\n",
       "      <td>7.6</td>\n",
       "      <td>1.3</td>\n",
       "      <td>3.4</td>\n",
       "      <td>0.5</td>\n",
       "      <td>not fire</td>\n",
       "      <td>0</td>\n",
       "    </tr>\n",
       "    <tr>\n",
       "      <th>1</th>\n",
       "      <td>29</td>\n",
       "      <td>61</td>\n",
       "      <td>13</td>\n",
       "      <td>1.3</td>\n",
       "      <td>64.4</td>\n",
       "      <td>4.1</td>\n",
       "      <td>7.6</td>\n",
       "      <td>1.0</td>\n",
       "      <td>3.9</td>\n",
       "      <td>0.4</td>\n",
       "      <td>not fire</td>\n",
       "      <td>0</td>\n",
       "    </tr>\n",
       "    <tr>\n",
       "      <th>2</th>\n",
       "      <td>26</td>\n",
       "      <td>82</td>\n",
       "      <td>22</td>\n",
       "      <td>13.1</td>\n",
       "      <td>47.1</td>\n",
       "      <td>2.5</td>\n",
       "      <td>7.1</td>\n",
       "      <td>0.3</td>\n",
       "      <td>2.7</td>\n",
       "      <td>0.1</td>\n",
       "      <td>not fire</td>\n",
       "      <td>0</td>\n",
       "    </tr>\n",
       "    <tr>\n",
       "      <th>3</th>\n",
       "      <td>25</td>\n",
       "      <td>89</td>\n",
       "      <td>13</td>\n",
       "      <td>2.5</td>\n",
       "      <td>28.6</td>\n",
       "      <td>1.3</td>\n",
       "      <td>6.9</td>\n",
       "      <td>0.0</td>\n",
       "      <td>1.7</td>\n",
       "      <td>0.0</td>\n",
       "      <td>not fire</td>\n",
       "      <td>0</td>\n",
       "    </tr>\n",
       "    <tr>\n",
       "      <th>4</th>\n",
       "      <td>27</td>\n",
       "      <td>77</td>\n",
       "      <td>16</td>\n",
       "      <td>0.0</td>\n",
       "      <td>64.8</td>\n",
       "      <td>3.0</td>\n",
       "      <td>14.2</td>\n",
       "      <td>1.2</td>\n",
       "      <td>3.9</td>\n",
       "      <td>0.5</td>\n",
       "      <td>not fire</td>\n",
       "      <td>0</td>\n",
       "    </tr>\n",
       "  </tbody>\n",
       "</table>\n",
       "</div>"
      ],
      "text/plain": [
       "   Temperature  RH  Ws  Rain  FFMC  DMC    DC  ISI  BUI  FWI      Classes  \\\n",
       "0           29  57  18   0.0  65.7  3.4   7.6  1.3  3.4  0.5  not fire      \n",
       "1           29  61  13   1.3  64.4  4.1   7.6  1.0  3.9  0.4  not fire      \n",
       "2           26  82  22  13.1  47.1  2.5   7.1  0.3  2.7  0.1  not fire      \n",
       "3           25  89  13   2.5  28.6  1.3   6.9  0.0  1.7  0.0  not fire      \n",
       "4           27  77  16   0.0  64.8  3.0  14.2  1.2  3.9  0.5  not fire      \n",
       "\n",
       "   region  \n",
       "0       0  \n",
       "1       0  \n",
       "2       0  \n",
       "3       0  \n",
       "4       0  "
      ]
     },
     "execution_count": 5,
     "metadata": {},
     "output_type": "execute_result"
    }
   ],
   "source": [
    "df.head()"
   ]
  },
  {
   "cell_type": "code",
   "execution_count": 6,
   "id": "7a46749e",
   "metadata": {},
   "outputs": [
    {
     "name": "stdout",
     "output_type": "stream",
     "text": [
      "<class 'pandas.core.frame.DataFrame'>\n",
      "RangeIndex: 242 entries, 0 to 241\n",
      "Data columns (total 12 columns):\n",
      " #   Column       Non-Null Count  Dtype  \n",
      "---  ------       --------------  -----  \n",
      " 0   Temperature  242 non-null    int64  \n",
      " 1   RH           242 non-null    int64  \n",
      " 2   Ws           242 non-null    int64  \n",
      " 3   Rain         242 non-null    float64\n",
      " 4   FFMC         242 non-null    float64\n",
      " 5   DMC          242 non-null    float64\n",
      " 6   DC           242 non-null    float64\n",
      " 7   ISI          242 non-null    float64\n",
      " 8   BUI          242 non-null    float64\n",
      " 9   FWI          242 non-null    float64\n",
      " 10  Classes      242 non-null    object \n",
      " 11  region       242 non-null    int64  \n",
      "dtypes: float64(7), int64(4), object(1)\n",
      "memory usage: 22.8+ KB\n"
     ]
    }
   ],
   "source": [
    "df.info()"
   ]
  },
  {
   "cell_type": "code",
   "execution_count": 7,
   "id": "7a19a022",
   "metadata": {},
   "outputs": [],
   "source": [
    "#converting the categorical feature in numerical feature\n",
    "df['Classes'] = np.where(df['Classes'].str.contains('not fire'),0,1)"
   ]
  },
  {
   "cell_type": "code",
   "execution_count": 8,
   "id": "66a64f50",
   "metadata": {},
   "outputs": [
    {
     "data": {
      "text/plain": [
       "1    137\n",
       "0    105\n",
       "Name: Classes, dtype: int64"
      ]
     },
     "execution_count": 8,
     "metadata": {},
     "output_type": "execute_result"
    }
   ],
   "source": [
    "df['Classes'].value_counts()"
   ]
  },
  {
   "cell_type": "code",
   "execution_count": 10,
   "id": "f1d7e6d2",
   "metadata": {},
   "outputs": [],
   "source": [
    "#in this example we will try to predict the FWI, so dividing the data into dependent and independent features\n",
    "x = df.drop('FWI', axis=1)\n",
    "y = df['FWI']"
   ]
  },
  {
   "cell_type": "code",
   "execution_count": 13,
   "id": "9038ecd4",
   "metadata": {},
   "outputs": [
    {
     "data": {
      "text/html": [
       "<div>\n",
       "<style scoped>\n",
       "    .dataframe tbody tr th:only-of-type {\n",
       "        vertical-align: middle;\n",
       "    }\n",
       "\n",
       "    .dataframe tbody tr th {\n",
       "        vertical-align: top;\n",
       "    }\n",
       "\n",
       "    .dataframe thead th {\n",
       "        text-align: right;\n",
       "    }\n",
       "</style>\n",
       "<table border=\"1\" class=\"dataframe\">\n",
       "  <thead>\n",
       "    <tr style=\"text-align: right;\">\n",
       "      <th></th>\n",
       "      <th>Temperature</th>\n",
       "      <th>RH</th>\n",
       "      <th>Ws</th>\n",
       "      <th>Rain</th>\n",
       "      <th>FFMC</th>\n",
       "      <th>DMC</th>\n",
       "      <th>DC</th>\n",
       "      <th>ISI</th>\n",
       "      <th>BUI</th>\n",
       "      <th>Classes</th>\n",
       "      <th>region</th>\n",
       "    </tr>\n",
       "  </thead>\n",
       "  <tbody>\n",
       "    <tr>\n",
       "      <th>0</th>\n",
       "      <td>29</td>\n",
       "      <td>57</td>\n",
       "      <td>18</td>\n",
       "      <td>0.0</td>\n",
       "      <td>65.7</td>\n",
       "      <td>3.4</td>\n",
       "      <td>7.6</td>\n",
       "      <td>1.3</td>\n",
       "      <td>3.4</td>\n",
       "      <td>0</td>\n",
       "      <td>0</td>\n",
       "    </tr>\n",
       "    <tr>\n",
       "      <th>1</th>\n",
       "      <td>29</td>\n",
       "      <td>61</td>\n",
       "      <td>13</td>\n",
       "      <td>1.3</td>\n",
       "      <td>64.4</td>\n",
       "      <td>4.1</td>\n",
       "      <td>7.6</td>\n",
       "      <td>1.0</td>\n",
       "      <td>3.9</td>\n",
       "      <td>0</td>\n",
       "      <td>0</td>\n",
       "    </tr>\n",
       "    <tr>\n",
       "      <th>2</th>\n",
       "      <td>26</td>\n",
       "      <td>82</td>\n",
       "      <td>22</td>\n",
       "      <td>13.1</td>\n",
       "      <td>47.1</td>\n",
       "      <td>2.5</td>\n",
       "      <td>7.1</td>\n",
       "      <td>0.3</td>\n",
       "      <td>2.7</td>\n",
       "      <td>0</td>\n",
       "      <td>0</td>\n",
       "    </tr>\n",
       "    <tr>\n",
       "      <th>3</th>\n",
       "      <td>25</td>\n",
       "      <td>89</td>\n",
       "      <td>13</td>\n",
       "      <td>2.5</td>\n",
       "      <td>28.6</td>\n",
       "      <td>1.3</td>\n",
       "      <td>6.9</td>\n",
       "      <td>0.0</td>\n",
       "      <td>1.7</td>\n",
       "      <td>0</td>\n",
       "      <td>0</td>\n",
       "    </tr>\n",
       "    <tr>\n",
       "      <th>4</th>\n",
       "      <td>27</td>\n",
       "      <td>77</td>\n",
       "      <td>16</td>\n",
       "      <td>0.0</td>\n",
       "      <td>64.8</td>\n",
       "      <td>3.0</td>\n",
       "      <td>14.2</td>\n",
       "      <td>1.2</td>\n",
       "      <td>3.9</td>\n",
       "      <td>0</td>\n",
       "      <td>0</td>\n",
       "    </tr>\n",
       "  </tbody>\n",
       "</table>\n",
       "</div>"
      ],
      "text/plain": [
       "   Temperature  RH  Ws  Rain  FFMC  DMC    DC  ISI  BUI  Classes  region\n",
       "0           29  57  18   0.0  65.7  3.4   7.6  1.3  3.4        0       0\n",
       "1           29  61  13   1.3  64.4  4.1   7.6  1.0  3.9        0       0\n",
       "2           26  82  22  13.1  47.1  2.5   7.1  0.3  2.7        0       0\n",
       "3           25  89  13   2.5  28.6  1.3   6.9  0.0  1.7        0       0\n",
       "4           27  77  16   0.0  64.8  3.0  14.2  1.2  3.9        0       0"
      ]
     },
     "execution_count": 13,
     "metadata": {},
     "output_type": "execute_result"
    }
   ],
   "source": [
    "x.head()"
   ]
  },
  {
   "cell_type": "code",
   "execution_count": 12,
   "id": "e1da87ca",
   "metadata": {},
   "outputs": [
    {
     "data": {
      "text/plain": [
       "0      0.5\n",
       "1      0.4\n",
       "2      0.1\n",
       "3      0.0\n",
       "4      0.5\n",
       "      ... \n",
       "237    6.5\n",
       "238    0.0\n",
       "239    0.2\n",
       "240    0.7\n",
       "241    0.5\n",
       "Name: FWI, Length: 242, dtype: float64"
      ]
     },
     "execution_count": 12,
     "metadata": {},
     "output_type": "execute_result"
    }
   ],
   "source": [
    "y"
   ]
  },
  {
   "cell_type": "code",
   "execution_count": 14,
   "id": "74e2bf15",
   "metadata": {},
   "outputs": [],
   "source": [
    "from sklearn.model_selection import train_test_split\n",
    "x_train, x_test, y_train, y_test = train_test_split(x, y, test_size=0.25, random_state=42)"
   ]
  },
  {
   "cell_type": "code",
   "execution_count": 15,
   "id": "3956a3dc",
   "metadata": {},
   "outputs": [
    {
     "data": {
      "text/plain": [
       "((181, 11), (61, 11))"
      ]
     },
     "execution_count": 15,
     "metadata": {},
     "output_type": "execute_result"
    }
   ],
   "source": [
    "x_train.shape, x_test.shape"
   ]
  },
  {
   "cell_type": "code",
   "execution_count": 16,
   "id": "41a6c2ee",
   "metadata": {},
   "outputs": [
    {
     "data": {
      "text/html": [
       "<div>\n",
       "<style scoped>\n",
       "    .dataframe tbody tr th:only-of-type {\n",
       "        vertical-align: middle;\n",
       "    }\n",
       "\n",
       "    .dataframe tbody tr th {\n",
       "        vertical-align: top;\n",
       "    }\n",
       "\n",
       "    .dataframe thead th {\n",
       "        text-align: right;\n",
       "    }\n",
       "</style>\n",
       "<table border=\"1\" class=\"dataframe\">\n",
       "  <thead>\n",
       "    <tr style=\"text-align: right;\">\n",
       "      <th></th>\n",
       "      <th>Temperature</th>\n",
       "      <th>RH</th>\n",
       "      <th>Ws</th>\n",
       "      <th>Rain</th>\n",
       "      <th>FFMC</th>\n",
       "      <th>DMC</th>\n",
       "      <th>DC</th>\n",
       "      <th>ISI</th>\n",
       "      <th>BUI</th>\n",
       "      <th>Classes</th>\n",
       "      <th>region</th>\n",
       "    </tr>\n",
       "  </thead>\n",
       "  <tbody>\n",
       "    <tr>\n",
       "      <th>Temperature</th>\n",
       "      <td>1.000000</td>\n",
       "      <td>-0.650346</td>\n",
       "      <td>-0.302105</td>\n",
       "      <td>-0.329711</td>\n",
       "      <td>0.703237</td>\n",
       "      <td>0.494261</td>\n",
       "      <td>0.377424</td>\n",
       "      <td>0.617606</td>\n",
       "      <td>0.466352</td>\n",
       "      <td>0.525551</td>\n",
       "      <td>0.249598</td>\n",
       "    </tr>\n",
       "    <tr>\n",
       "      <th>RH</th>\n",
       "      <td>-0.650346</td>\n",
       "      <td>1.000000</td>\n",
       "      <td>0.266525</td>\n",
       "      <td>0.234932</td>\n",
       "      <td>-0.634330</td>\n",
       "      <td>-0.413931</td>\n",
       "      <td>-0.246125</td>\n",
       "      <td>-0.693939</td>\n",
       "      <td>-0.364136</td>\n",
       "      <td>-0.435094</td>\n",
       "      <td>-0.364007</td>\n",
       "    </tr>\n",
       "    <tr>\n",
       "      <th>Ws</th>\n",
       "      <td>-0.302105</td>\n",
       "      <td>0.266525</td>\n",
       "      <td>1.000000</td>\n",
       "      <td>0.219681</td>\n",
       "      <td>-0.171843</td>\n",
       "      <td>0.000277</td>\n",
       "      <td>0.105115</td>\n",
       "      <td>0.005360</td>\n",
       "      <td>0.038701</td>\n",
       "      <td>-0.059470</td>\n",
       "      <td>-0.235477</td>\n",
       "    </tr>\n",
       "    <tr>\n",
       "      <th>Rain</th>\n",
       "      <td>-0.329711</td>\n",
       "      <td>0.234932</td>\n",
       "      <td>0.219681</td>\n",
       "      <td>1.000000</td>\n",
       "      <td>-0.546501</td>\n",
       "      <td>-0.286855</td>\n",
       "      <td>-0.300276</td>\n",
       "      <td>-0.346706</td>\n",
       "      <td>-0.297934</td>\n",
       "      <td>-0.386323</td>\n",
       "      <td>-0.065132</td>\n",
       "    </tr>\n",
       "    <tr>\n",
       "      <th>FFMC</th>\n",
       "      <td>0.703237</td>\n",
       "      <td>-0.634330</td>\n",
       "      <td>-0.171843</td>\n",
       "      <td>-0.546501</td>\n",
       "      <td>1.000000</td>\n",
       "      <td>0.621240</td>\n",
       "      <td>0.537884</td>\n",
       "      <td>0.751558</td>\n",
       "      <td>0.610780</td>\n",
       "      <td>0.780805</td>\n",
       "      <td>0.222702</td>\n",
       "    </tr>\n",
       "    <tr>\n",
       "      <th>DMC</th>\n",
       "      <td>0.494261</td>\n",
       "      <td>-0.413931</td>\n",
       "      <td>0.000277</td>\n",
       "      <td>-0.286855</td>\n",
       "      <td>0.621240</td>\n",
       "      <td>1.000000</td>\n",
       "      <td>0.876734</td>\n",
       "      <td>0.693404</td>\n",
       "      <td>0.983698</td>\n",
       "      <td>0.613507</td>\n",
       "      <td>0.196778</td>\n",
       "    </tr>\n",
       "    <tr>\n",
       "      <th>DC</th>\n",
       "      <td>0.377424</td>\n",
       "      <td>-0.246125</td>\n",
       "      <td>0.105115</td>\n",
       "      <td>-0.300276</td>\n",
       "      <td>0.537884</td>\n",
       "      <td>0.876734</td>\n",
       "      <td>1.000000</td>\n",
       "      <td>0.548992</td>\n",
       "      <td>0.946992</td>\n",
       "      <td>0.546427</td>\n",
       "      <td>-0.081403</td>\n",
       "    </tr>\n",
       "    <tr>\n",
       "      <th>ISI</th>\n",
       "      <td>0.617606</td>\n",
       "      <td>-0.693939</td>\n",
       "      <td>0.005360</td>\n",
       "      <td>-0.346706</td>\n",
       "      <td>0.751558</td>\n",
       "      <td>0.693404</td>\n",
       "      <td>0.548992</td>\n",
       "      <td>1.000000</td>\n",
       "      <td>0.659589</td>\n",
       "      <td>0.749722</td>\n",
       "      <td>0.266275</td>\n",
       "    </tr>\n",
       "    <tr>\n",
       "      <th>BUI</th>\n",
       "      <td>0.466352</td>\n",
       "      <td>-0.364136</td>\n",
       "      <td>0.038701</td>\n",
       "      <td>-0.297934</td>\n",
       "      <td>0.610780</td>\n",
       "      <td>0.983698</td>\n",
       "      <td>0.946992</td>\n",
       "      <td>0.659589</td>\n",
       "      <td>1.000000</td>\n",
       "      <td>0.609708</td>\n",
       "      <td>0.096607</td>\n",
       "    </tr>\n",
       "    <tr>\n",
       "      <th>Classes</th>\n",
       "      <td>0.525551</td>\n",
       "      <td>-0.435094</td>\n",
       "      <td>-0.059470</td>\n",
       "      <td>-0.386323</td>\n",
       "      <td>0.780805</td>\n",
       "      <td>0.613507</td>\n",
       "      <td>0.546427</td>\n",
       "      <td>0.749722</td>\n",
       "      <td>0.609708</td>\n",
       "      <td>1.000000</td>\n",
       "      <td>0.161852</td>\n",
       "    </tr>\n",
       "    <tr>\n",
       "      <th>region</th>\n",
       "      <td>0.249598</td>\n",
       "      <td>-0.364007</td>\n",
       "      <td>-0.235477</td>\n",
       "      <td>-0.065132</td>\n",
       "      <td>0.222702</td>\n",
       "      <td>0.196778</td>\n",
       "      <td>-0.081403</td>\n",
       "      <td>0.266275</td>\n",
       "      <td>0.096607</td>\n",
       "      <td>0.161852</td>\n",
       "      <td>1.000000</td>\n",
       "    </tr>\n",
       "  </tbody>\n",
       "</table>\n",
       "</div>"
      ],
      "text/plain": [
       "             Temperature        RH        Ws      Rain      FFMC       DMC  \\\n",
       "Temperature     1.000000 -0.650346 -0.302105 -0.329711  0.703237  0.494261   \n",
       "RH             -0.650346  1.000000  0.266525  0.234932 -0.634330 -0.413931   \n",
       "Ws             -0.302105  0.266525  1.000000  0.219681 -0.171843  0.000277   \n",
       "Rain           -0.329711  0.234932  0.219681  1.000000 -0.546501 -0.286855   \n",
       "FFMC            0.703237 -0.634330 -0.171843 -0.546501  1.000000  0.621240   \n",
       "DMC             0.494261 -0.413931  0.000277 -0.286855  0.621240  1.000000   \n",
       "DC              0.377424 -0.246125  0.105115 -0.300276  0.537884  0.876734   \n",
       "ISI             0.617606 -0.693939  0.005360 -0.346706  0.751558  0.693404   \n",
       "BUI             0.466352 -0.364136  0.038701 -0.297934  0.610780  0.983698   \n",
       "Classes         0.525551 -0.435094 -0.059470 -0.386323  0.780805  0.613507   \n",
       "region          0.249598 -0.364007 -0.235477 -0.065132  0.222702  0.196778   \n",
       "\n",
       "                   DC       ISI       BUI   Classes    region  \n",
       "Temperature  0.377424  0.617606  0.466352  0.525551  0.249598  \n",
       "RH          -0.246125 -0.693939 -0.364136 -0.435094 -0.364007  \n",
       "Ws           0.105115  0.005360  0.038701 -0.059470 -0.235477  \n",
       "Rain        -0.300276 -0.346706 -0.297934 -0.386323 -0.065132  \n",
       "FFMC         0.537884  0.751558  0.610780  0.780805  0.222702  \n",
       "DMC          0.876734  0.693404  0.983698  0.613507  0.196778  \n",
       "DC           1.000000  0.548992  0.946992  0.546427 -0.081403  \n",
       "ISI          0.548992  1.000000  0.659589  0.749722  0.266275  \n",
       "BUI          0.946992  0.659589  1.000000  0.609708  0.096607  \n",
       "Classes      0.546427  0.749722  0.609708  1.000000  0.161852  \n",
       "region      -0.081403  0.266275  0.096607  0.161852  1.000000  "
      ]
     },
     "execution_count": 16,
     "metadata": {},
     "output_type": "execute_result"
    }
   ],
   "source": [
    "#feature selection using correlation\n",
    "x_train.corr()"
   ]
  },
  {
   "cell_type": "code",
   "execution_count": 18,
   "id": "00d84513",
   "metadata": {},
   "outputs": [
    {
     "data": {
      "text/plain": [
       "' feature selection using correlation is done by dropping the independent features which are \\nhighly correlated, since they are both tend to behave in the same way'"
      ]
     },
     "execution_count": 18,
     "metadata": {},
     "output_type": "execute_result"
    }
   ],
   "source": [
    "''' feature selection using correlation is done by dropping the independent features which are \n",
    "highly correlated, since they are both tend to behave in the same way'''"
   ]
  },
  {
   "cell_type": "code",
   "execution_count": 41,
   "id": "64252d84",
   "metadata": {},
   "outputs": [],
   "source": [
    "def correlation(dataset, threshold):\n",
    "    corCol = set()\n",
    "    corrMatrix=dataset.corr()\n",
    "    for i in range(len(corrMatrix.columns)):\n",
    "        for j in range(i):\n",
    "            if abs(corrMatrix.iloc[i,j])>threshold:\n",
    "                colName = corrMatrix.columns[i]\n",
    "                corCol.add(colName)\n",
    "    return corCol"
   ]
  },
  {
   "cell_type": "code",
   "execution_count": 42,
   "id": "8f849ffd",
   "metadata": {},
   "outputs": [],
   "source": [
    "corrColumns = correlation(x_train, 0.85)"
   ]
  },
  {
   "cell_type": "code",
   "execution_count": 46,
   "id": "13eb5540",
   "metadata": {},
   "outputs": [
    {
     "data": {
      "text/plain": [
       "set()"
      ]
     },
     "execution_count": 46,
     "metadata": {},
     "output_type": "execute_result"
    }
   ],
   "source": [
    "corrColumns\n",
    "#included (BUI, DC)"
   ]
  },
  {
   "cell_type": "code",
   "execution_count": 47,
   "id": "84fe3c38",
   "metadata": {},
   "outputs": [
    {
     "data": {
      "text/plain": [
       "((181, 9), (61, 9))"
      ]
     },
     "execution_count": 47,
     "metadata": {},
     "output_type": "execute_result"
    }
   ],
   "source": [
    "x_train.drop(corrColumns, axis=1, inplace=True)\n",
    "x_test.drop(corrColumns, axis=1, inplace=True)\n",
    "x_train.shape, x_test.shape"
   ]
  },
  {
   "cell_type": "code",
   "execution_count": 49,
   "id": "20974c12",
   "metadata": {},
   "outputs": [],
   "source": [
    "#feature scaling or standardisation\n",
    "from sklearn.preprocessing import StandardScaler\n",
    "scaler= StandardScaler()\n",
    "x_train_scaled = scaler.fit_transform(x_train)\n",
    "x_test_scaled = scaler.transform(x_test)"
   ]
  },
  {
   "cell_type": "code",
   "execution_count": 50,
   "id": "d799f6a2",
   "metadata": {},
   "outputs": [
    {
     "data": {
      "text/plain": [
       "array([[-0.82836812,  0.75305576,  1.27406033, ..., -0.60658617,\n",
       "        -1.07459849, -0.98356052],\n",
       "       [-0.02800533, -0.52331623, -0.52192814, ...,  0.08124507,\n",
       "         0.93058013,  1.01671425],\n",
       "       [-0.82836812, -1.46380085, -2.67711431, ..., -0.46427625,\n",
       "         0.93058013,  1.01671425],\n",
       "       ...,\n",
       "       [-1.89551851,  0.88741071,  0.55566494, ..., -1.05723422,\n",
       "        -1.07459849, -0.98356052],\n",
       "       [ 1.03914506, -0.45613875,  0.19646725, ...,  0.84023126,\n",
       "         0.93058013,  1.01671425],\n",
       "       [-0.56158052,  0.95458818,  1.99245572, ..., -0.84376935,\n",
       "        -1.07459849, -0.98356052]])"
      ]
     },
     "execution_count": 50,
     "metadata": {},
     "output_type": "execute_result"
    }
   ],
   "source": [
    "x_train_scaled"
   ]
  },
  {
   "cell_type": "code",
   "execution_count": 51,
   "id": "6d8ef012",
   "metadata": {},
   "outputs": [
    {
     "data": {
      "text/plain": [
       "Text(0.5, 1.0, 'After')"
      ]
     },
     "execution_count": 51,
     "metadata": {},
     "output_type": "execute_result"
    },
    {
     "data": {
      "image/png": "[encoded data removed]",
      "text/plain": [
       "<Figure size 1500x500 with 2 Axes>"
      ]
     },
     "metadata": {},
     "output_type": "display_data"
    }
   ],
   "source": [
    "## using boxplot to see the effect of standard scaler on outliers\n",
    "plt.subplots(1,2, figsize=(15,5))\n",
    "plt.subplot(1,2,1)\n",
    "plt.boxplot(x_train)\n",
    "plt.title('Before')\n",
    "plt.subplot(1,2,2)\n",
    "plt.boxplot(x_train_scaled)\n",
    "plt.title('After')"
   ]
  },
  {
   "cell_type": "code",
   "execution_count": 54,
   "id": "8f7bee52",
   "metadata": {},
   "outputs": [
    {
     "name": "stdout",
     "output_type": "stream",
     "text": [
      "0.5838063599546985  mean absolute error\n",
      "0.983523052949508  r2 score\n"
     ]
    },
    {
     "data": {
      "text/plain": [
       "<matplotlib.collections.PathCollection at 0x2970f5e4610>"
      ]
     },
     "execution_count": 54,
     "metadata": {},
     "output_type": "execute_result"
    },
    {
     "data": {
      "image/png": "[encoded data removed]",
      "text/plain": [
       "<Figure size 640x480 with 1 Axes>"
      ]
     },
     "metadata": {},
     "output_type": "display_data"
    }
   ],
   "source": [
    "##applying linear regression model\n",
    "from sklearn.linear_model import LinearRegression\n",
    "from sklearn.metrics import mean_absolute_error\n",
    "from sklearn.metrics import r2_score\n",
    "reg = LinearRegression()\n",
    "reg.fit(x_train_scaled, y_train)\n",
    "y_pred=reg.predict(x_test_scaled)\n",
    "mae = mean_absolute_error(y_test, y_pred)\n",
    "score = r2_score(y_test, y_pred)\n",
    "print(mae, \" mean absolute error\")\n",
    "print(score, ' r2 score')\n",
    "plt.scatter(y_test, y_pred)"
   ]
  },
  {
   "cell_type": "code",
   "execution_count": 56,
   "id": "8e99ee46",
   "metadata": {},
   "outputs": [
    {
     "name": "stdout",
     "output_type": "stream",
     "text": [
      "1.145997996939169\n",
      "0.9497712193501187\n"
     ]
    },
    {
     "data": {
      "text/plain": [
       "<matplotlib.collections.PathCollection at 0x2970f699970>"
      ]
     },
     "execution_count": 56,
     "metadata": {},
     "output_type": "execute_result"
    },
    {
     "data": {
      "image/png": "[encoded data removed]",
      "text/plain": [
       "<Figure size 640x480 with 1 Axes>"
      ]
     },
     "metadata": {},
     "output_type": "display_data"
    }
   ],
   "source": [
    "#applying lasso regression\n",
    "from sklearn.linear_model import Lasso\n",
    "lasso = Lasso()\n",
    "lasso.fit(x_train_scaled, y_train)\n",
    "y_pred_lasso = lasso.predict(x_test_scaled)\n",
    "mae = mean_absolute_error(y_test, y_pred_lasso)\n",
    "score = r2_score(y_test, y_pred_lasso)\n",
    "print(mae)\n",
    "print(score)\n",
    "plt.scatter(y_test, y_pred_lasso)"
   ]
  },
  {
   "cell_type": "code",
   "execution_count": 58,
   "id": "fcc0f44b",
   "metadata": {},
   "outputs": [
    {
     "name": "stdout",
     "output_type": "stream",
     "text": [
      "0.6125515638101013\n",
      "0.982698355229298\n"
     ]
    },
    {
     "data": {
      "text/plain": [
       "<matplotlib.collections.PathCollection at 0x2970faccf70>"
      ]
     },
     "execution_count": 58,
     "metadata": {},
     "output_type": "execute_result"
    },
    {
     "data": {
      "image/png": "[encoded data removed]",
      "text/plain": [
       "<Figure size 640x480 with 1 Axes>"
      ]
     },
     "metadata": {},
     "output_type": "display_data"
    }
   ],
   "source": [
    "##applying ridge reg\n",
    "from sklearn.linear_model import Ridge\n",
    "ridge = Ridge()\n",
    "ridge.fit(x_train_scaled, y_train)\n",
    "y_pred_ridge = ridge.predict(x_test_scaled)\n",
    "mae = mean_absolute_error(y_test, y_pred_ridge)\n",
    "score = r2_score(y_test, y_pred_ridge)\n",
    "print(mae)\n",
    "print(score)\n",
    "plt.scatter(y_test, y_pred_ridge)"
   ]
  },
  {
   "cell_type": "code",
   "execution_count": 59,
   "id": "c3a2450b",
   "metadata": {},
   "outputs": [],
   "source": [
    "##pickling the standard scaler and ridge model\n",
    "import pickle\n",
    "pickle.dump(scaler, open('scaler.pkl', 'wb'))\n",
    "pickle.dump(ridge, open('ridge.pkl', 'wb'))"
   ]
  },
  {
   "cell_type": "code",
   "execution_count": null,
   "id": "d5c1529f",
   "metadata": {},
   "outputs": [],
   "source": []
  }
 ],
 "metadata": {
  "kernelspec": {
   "display_name": "Python 3 (ipykernel)",
   "language": "python",
   "name": "python3"
  },
  "language_info": {
   "codemirror_mode": {
    "name": "ipython",
    "version": 3
   },
   "file_extension": ".py",
   "mimetype": "text/x-python",
   "name": "python",
   "nbconvert_exporter": "python",
   "pygments_lexer": "ipython3",
   "version": "3.9.13"
  }
 },
 "nbformat": 4,
 "nbformat_minor": 5
}
